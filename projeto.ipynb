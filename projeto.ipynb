{
  "nbformat": 4,
  "nbformat_minor": 0,
  "metadata": {
    "colab": {
      "provenance": [],
      "authorship_tag": "ABX9TyOi6a/az4ITSYvl80Z91/DY",
      "include_colab_link": true
    },
    "kernelspec": {
      "name": "python3",
      "display_name": "Python 3"
    },
    "language_info": {
      "name": "python"
    }
  },
  "cells": [
    {
      "cell_type": "markdown",
      "metadata": {
        "id": "view-in-github",
        "colab_type": "text"
      },
      "source": [
        "<a href=\"https://colab.research.google.com/github/mcastilho78/projeto_aula4_imersaoIA/blob/main/projeto.ipynb\" target=\"_parent\"><img src=\"https://colab.research.google.com/assets/colab-badge.svg\" alt=\"Open In Colab\"/></a>"
      ]
    },
    {
      "cell_type": "code",
      "execution_count": 1,
      "metadata": {
        "id": "xWm4YTlncwrs"
      },
      "outputs": [],
      "source": [
        "!pip install -q -U google-generativeai"
      ]
    },
    {
      "cell_type": "code",
      "source": [
        "import google.generativeai as genai\n",
        "\n",
        "from google.colab import userdata\n",
        "google_api_key = userdata.get('SECRET_KEY')\n",
        "\n",
        "genai.configure(api_key=google_api_key)"
      ],
      "metadata": {
        "id": "YIyt0g5Zc54v"
      },
      "execution_count": 3,
      "outputs": []
    },
    {
      "cell_type": "code",
      "source": [
        "for m in genai.list_models():\n",
        "  if 'generateContent' in m.supported_generation_methods:\n",
        "    print(m.name)"
      ],
      "metadata": {
        "colab": {
          "base_uri": "https://localhost:8080/",
          "height": 138
        },
        "id": "agdYlKJ2c9Co",
        "outputId": "4612dac2-3f8c-46b3-e869-f804ba5b122d"
      },
      "execution_count": 4,
      "outputs": [
        {
          "output_type": "stream",
          "name": "stdout",
          "text": [
            "models/gemini-1.0-pro\n",
            "models/gemini-1.0-pro-001\n",
            "models/gemini-1.0-pro-latest\n",
            "models/gemini-1.0-pro-vision-latest\n",
            "models/gemini-1.5-pro-latest\n",
            "models/gemini-pro\n",
            "models/gemini-pro-vision\n"
          ]
        }
      ]
    },
    {
      "cell_type": "code",
      "source": [
        "generation_config = {\n",
        "  \"candidate_count\": 1,\n",
        "  \"temperature\": 0.5,\n",
        "}"
      ],
      "metadata": {
        "id": "NzNxzBVJc_Xw"
      },
      "execution_count": 5,
      "outputs": []
    },
    {
      "cell_type": "code",
      "source": [
        "safety_settings={\n",
        "    'HATE': 'BLOCK_NONE',\n",
        "    'HARASSMENT': 'BLOCK_NONE',\n",
        "    'SEXUAL' : 'BLOCK_NONE',\n",
        "    'DANGEROUS' : 'BLOCK_NONE'\n",
        "    }"
      ],
      "metadata": {
        "id": "uCOJAisOdBwh"
      },
      "execution_count": 6,
      "outputs": []
    },
    {
      "cell_type": "code",
      "source": [
        "model = genai.GenerativeModel(model_name='gemini-1.0-pro',\n",
        "                                  generation_config=generation_config,\n",
        "                                  safety_settings=safety_settings,)"
      ],
      "metadata": {
        "id": "EqLCtIQjdEDB"
      },
      "execution_count": 7,
      "outputs": []
    },
    {
      "cell_type": "code",
      "source": [
        "import requests\n",
        "\n",
        "url = 'https://raw.githubusercontent.com/mcastilho78/projeto_aula4_imersaoIA/main/cidades.json'\n",
        "resposta = requests.get(url)\n",
        "resposta.json()\n",
        "data = resposta.json()"
      ],
      "metadata": {
        "id": "KQ2GD0NgdIbK"
      },
      "execution_count": 50,
      "outputs": []
    },
    {
      "cell_type": "code",
      "source": [
        "import random\n",
        "random.choice(data)"
      ],
      "metadata": {
        "id": "22LC7hyhrKtH"
      },
      "execution_count": null,
      "outputs": []
    },
    {
      "cell_type": "code",
      "source": [
        "valor_secreto = random.choice(data)\n",
        "estado = valor_secreto['estado']\n",
        "cidade_secreta = valor_secreto['municipio']\n",
        "print(f'A cidade (capital) secreta tem {len(cidade_secreta)} letras.')"
      ],
      "metadata": {
        "colab": {
          "base_uri": "https://localhost:8080/"
        },
        "id": "quDo3barrT1n",
        "outputId": "89fa4b08-ebce-41c1-856e-d3ce9e401a52"
      },
      "execution_count": 57,
      "outputs": [
        {
          "output_type": "stream",
          "name": "stdout",
          "text": [
            "A cidade (capital) secreta tem 12 letras.\n"
          ]
        }
      ]
    },
    {
      "cell_type": "code",
      "source": [
        "cidade = input(\"Informe a cidade secreta: \")\n",
        "\n",
        "if cidade == cidade_secreta:\n",
        "  print(f'Acertou. A cidade está localizada no Estado de {estado}. Você ganhou 20% de desconto na sua viagem.')\n",
        "else:\n",
        "  print(f'Errou. A cidade secreta é {cidade_secreta} no Estado de {estado}.')"
      ],
      "metadata": {
        "colab": {
          "base_uri": "https://localhost:8080/"
        },
        "id": "BKfagEo8mk91",
        "outputId": "6c2e4a5d-3026-4798-e319-a29be34babec"
      },
      "execution_count": 58,
      "outputs": [
        {
          "output_type": "stream",
          "name": "stdout",
          "text": [
            "Informe a cidade secreta: Porto Alegre\n",
            "Acertou. A cidade está localizada no Estado de RS. Você ganhou 20% de desconto na sua viagem.\n"
          ]
        }
      ]
    },
    {
      "cell_type": "code",
      "source": [
        "response = model.generate_content(f'Descreva quando foi fundada a cidade de {cidade_secreta}, como é a economia da cidade, quantidade de habitantes, principais pontos turísticos e elabore um roteiro de viagem de 4 dias com estes principais pontos turísticos, informando museus, praias, restaurantes de destaque, passeios, etc.')\n",
        "print(response.text)"
      ],
      "metadata": {
        "colab": {
          "base_uri": "https://localhost:8080/",
          "height": 835
        },
        "id": "LxEQYLDc4X4W",
        "outputId": "2a8bf626-1e82-47c0-c052-70f0429b863e"
      },
      "execution_count": 59,
      "outputs": [
        {
          "output_type": "stream",
          "name": "stdout",
          "text": [
            "**Fundação de Porto Alegre**\n",
            "\n",
            "Porto Alegre foi fundada em 26 de março de 1769, por colonos portugueses liderados por José Marcelino de Figueiredo.\n",
            "\n",
            "**Economia**\n",
            "\n",
            "Porto Alegre é um importante centro econômico do sul do Brasil. A cidade abriga indústrias de metalurgia, alimentos, bebidas, vestuário e calçados. Além disso, é um centro financeiro e de serviços.\n",
            "\n",
            "**População**\n",
            "\n",
            "De acordo com o IBGE, a população estimada de Porto Alegre em 2023 é de 1.492.186 habitantes.\n",
            "\n",
            "**Principais Pontos Turísticos**\n",
            "\n",
            "* **Parque Farroupilha (Redenção):** Um grande parque urbano com jardins, lagos e áreas de lazer.\n",
            "* **Mercado Público:** Um mercado histórico que oferece uma variedade de produtos locais, incluindo alimentos, artesanato e souvenirs.\n",
            "* **Museu de Arte do Rio Grande do Sul (MARGS):** Um museu de arte que exibe uma coleção de obras de artistas brasileiros e internacionais.\n",
            "* **Cais do Porto:** Uma área revitalizada ao longo do Rio Guaíba, com restaurantes, lojas e atrações culturais.\n",
            "* **Praia de Ipanema:** Uma praia urbana com vista para o Rio Guaíba.\n",
            "\n",
            "**Roteiro de Viagem de 4 Dias**\n",
            "\n",
            "**Dia 1**\n",
            "\n",
            "* Chegue a Porto Alegre e faça o check-in em seu hotel.\n",
            "* Visite o Parque Farroupilha (Redenção) e explore seus jardins e lagoas.\n",
            "* Almoce em um dos restaurantes do Cais do Porto.\n",
            "* Visite o Mercado Público e compre lembranças e produtos locais.\n",
            "\n",
            "**Dia 2**\n",
            "\n",
            "* Visite o Museu de Arte do Rio Grande do Sul (MARGS).\n",
            "* Faça um passeio de barco pelo Rio Guaíba.\n",
            "* Jante em um dos restaurantes tradicionais de churrasco da cidade.\n",
            "\n",
            "**Dia 3**\n",
            "\n",
            "* Explore o Centro Histórico de Porto Alegre, visitando a Catedral Metropolitana e outros marcos históricos.\n",
            "* Visite o Museu da Comunicação Social Hipólito José da Costa.\n",
            "* Relaxe na Praia de Ipanema.\n",
            "\n",
            "**Dia 4**\n",
            "\n",
            "* Visite o Jardim Botânico de Porto Alegre.\n",
            "* Faça compras no Shopping Iguatemi.\n",
            "* Desfrute de um jantar de despedida em um restaurante com vista para o Rio Guaíba.\n"
          ]
        }
      ]
    },
    {
      "cell_type": "code",
      "source": [
        "chat = model.start_chat(history=[])\n",
        "\n",
        "prompt = input(f'Deseja mais detalhes de alguma informação da cidade de {cidade_secreta}? ')\n",
        "\n",
        "while prompt != \"fim\":\n",
        "  response = chat.send_message(prompt)\n",
        "  print(\"Resposta:\", response.text, '\\n\\n')\n",
        "  prompt = input(f'Deseja mais detalhes de alguma informação da cidade de {cidade_secreta}? ')"
      ],
      "metadata": {
        "colab": {
          "base_uri": "https://localhost:8080/",
          "height": 260
        },
        "id": "z2QOO0cn51bZ",
        "outputId": "31a93a2e-f72d-4466-f3af-3dce883ad9b0"
      },
      "execution_count": 60,
      "outputs": [
        {
          "name": "stdout",
          "output_type": "stream",
          "text": [
            "Deseja mais detalhes de alguma informação da cidade de Porto Alegre? Porque o Rio Guaíba recebeu esse nome?\n",
            "Resposta: O Rio Guaíba não recebeu esse nome. Seu nome original é Rio Jacuí. \n",
            "\n",
            "\n",
            "Deseja mais detalhes de alguma informação da cidade de Porto Alegre? E qual é a origem da palavra Jacuí?\n",
            "Resposta: A palavra \"Jacuí\" é de origem tupi e significa \"rio dos jacus\".\n",
            "\n",
            "* **Jacú:** ave da família dos cracídeos, comum na região onde o rio está localizado.\n",
            "* **Í:** sufixo que indica rio em tupi.\n",
            "\n",
            "Portanto, Jacuí significa literalmente \"rio dos jacus\". \n",
            "\n",
            "\n",
            "Deseja mais detalhes de alguma informação da cidade de Porto Alegre? fim\n"
          ]
        }
      ]
    }
  ]
}