{
  "nbformat": 4,
  "nbformat_minor": 0,
  "metadata": {
    "colab": {
      "provenance": [],
      "authorship_tag": "ABX9TyOht17DDJoT8iUgNoopeY1J",
      "include_colab_link": true
    },
    "kernelspec": {
      "name": "python3",
      "display_name": "Python 3"
    },
    "language_info": {
      "name": "python"
    }
  },
  "cells": [
    {
      "cell_type": "markdown",
      "metadata": {
        "id": "view-in-github",
        "colab_type": "text"
      },
      "source": [
        "<a href=\"https://colab.research.google.com/github/mcastilho78/projeto_aula4_imersaoIA/blob/main/Converte_Municipios_JSON.ipynb\" target=\"_parent\"><img src=\"https://colab.research.google.com/assets/colab-badge.svg\" alt=\"Open In Colab\"/></a>"
      ]
    },
    {
      "cell_type": "markdown",
      "source": [
        "**INSTALAÇÃO DA BIBLIOTECA PANDAS**"
      ],
      "metadata": {
        "id": "fn1l-GeKf3pw"
      }
    },
    {
      "cell_type": "code",
      "execution_count": 1,
      "metadata": {
        "colab": {
          "base_uri": "https://localhost:8080/"
        },
        "id": "ID2ET5JHZzfR",
        "outputId": "f95017b8-a332-4e44-9f06-41144cb1da3d"
      },
      "outputs": [
        {
          "output_type": "stream",
          "name": "stdout",
          "text": [
            "Requirement already satisfied: pandas in /usr/local/lib/python3.10/dist-packages (2.0.3)\n",
            "Requirement already satisfied: python-dateutil>=2.8.2 in /usr/local/lib/python3.10/dist-packages (from pandas) (2.8.2)\n",
            "Requirement already satisfied: pytz>=2020.1 in /usr/local/lib/python3.10/dist-packages (from pandas) (2023.4)\n",
            "Requirement already satisfied: tzdata>=2022.1 in /usr/local/lib/python3.10/dist-packages (from pandas) (2024.1)\n",
            "Requirement already satisfied: numpy>=1.21.0 in /usr/local/lib/python3.10/dist-packages (from pandas) (1.25.2)\n",
            "Requirement already satisfied: six>=1.5 in /usr/local/lib/python3.10/dist-packages (from python-dateutil>=2.8.2->pandas) (1.16.0)\n"
          ]
        }
      ],
      "source": [
        "pip install pandas"
      ]
    },
    {
      "cell_type": "markdown",
      "source": [
        "**IMPORTAÇÃO DE BIBLIOTECAS NECESSÁRIAS**"
      ],
      "metadata": {
        "id": "TeX5YuVJgQsb"
      }
    },
    {
      "cell_type": "code",
      "source": [
        "import requests\n",
        "import pandas as pd"
      ],
      "metadata": {
        "id": "_56DsnMnaSDT"
      },
      "execution_count": 6,
      "outputs": []
    },
    {
      "cell_type": "markdown",
      "source": [
        "**FAZENDO REQUISIÇÃO À API DE MUNICÍPIOS DO IBGE**"
      ],
      "metadata": {
        "id": "UYYNCOLagYoJ"
      }
    },
    {
      "cell_type": "code",
      "source": [
        "url = \"https://servicodados.ibge.gov.br/api/v1/localidades/distritos\"\n",
        "response = requests.get(url)\n",
        "\n",
        "# Verificando se a requisição foi bem-sucedida\n",
        "if response.status_code == 200:\n",
        "    data = response.json()\n",
        "else:\n",
        "    print(f\"Erro ao obter dados: {response.status_code}\")"
      ],
      "metadata": {
        "id": "zuKVukMNcVHY"
      },
      "execution_count": 7,
      "outputs": []
    },
    {
      "cell_type": "markdown",
      "source": [
        "**CONVERTER A RESPOSTA JSON EM UM DATAFRAME DO PANDAS**"
      ],
      "metadata": {
        "id": "lciqk6MEgjTq"
      }
    },
    {
      "cell_type": "code",
      "source": [
        "df = pd.DataFrame(data)"
      ],
      "metadata": {
        "id": "kR7uqkskcaJI"
      },
      "execution_count": 8,
      "outputs": []
    },
    {
      "cell_type": "markdown",
      "source": [
        "**UTILIZAÇÃO DO MÉTODO \"to_csv\" PARA SALVAR O DATAFRAME COMO UM ARQUIVO CSV**"
      ],
      "metadata": {
        "id": "vBg81rN8grRU"
      }
    },
    {
      "cell_type": "code",
      "source": [
        "df.to_csv(\"distritos.csv\", index=False)"
      ],
      "metadata": {
        "id": "QNWQEgmJchVE"
      },
      "execution_count": 9,
      "outputs": []
    },
    {
      "cell_type": "markdown",
      "source": [
        "**LENDO O ARQUIVO CSV**"
      ],
      "metadata": {
        "id": "5S_vUlg6g39s"
      }
    },
    {
      "cell_type": "code",
      "source": [
        "df = pd.read_csv(\"distritos.csv\")"
      ],
      "metadata": {
        "id": "ydr2gz4XdoXr"
      },
      "execution_count": 14,
      "outputs": []
    },
    {
      "cell_type": "markdown",
      "source": [
        "**UTILIZAÇÃO DO MÉTODO \"to_json\" PARA CONVERTER O DATAFRAME NO FORMATO JSON**"
      ],
      "metadata": {
        "id": "5F2YLWqcg-p9"
      }
    },
    {
      "cell_type": "code",
      "source": [
        "json_data = df.to_json(orient='records')"
      ],
      "metadata": {
        "id": "XBEK94-ueSyU"
      },
      "execution_count": 15,
      "outputs": []
    },
    {
      "cell_type": "markdown",
      "source": [
        "**CADA COLUNA DO DATAFRAME SE TORNA UMA CHAVE NO OBJETO JSON, E OS VALORES SÃO ARRAYS CONTENDO OS VALORES DAS COLUNAS**"
      ],
      "metadata": {
        "id": "facjnqW7hRb_"
      }
    },
    {
      "cell_type": "code",
      "source": [
        "json_data = df.to_json(orient='columns')"
      ],
      "metadata": {
        "id": "UVR41uHTeV7Z"
      },
      "execution_count": 16,
      "outputs": []
    },
    {
      "cell_type": "markdown",
      "source": [
        "**CADA ÍNDICE DO DATAFRAME SE TORNA UMA CHAVE NO OBJETO JSON, E OS VALORES SÃO OBJETOS JSON REPRESENTANDO AS LINHAS**"
      ],
      "metadata": {
        "id": "VNHn7MLEhlHw"
      }
    },
    {
      "cell_type": "code",
      "source": [
        "json_data = df.to_json(orient='index')"
      ],
      "metadata": {
        "id": "fAtJJEypeZAK"
      },
      "execution_count": 17,
      "outputs": []
    },
    {
      "cell_type": "markdown",
      "source": [
        "**SALVANDO O JSON EM UM ARQUIVO**"
      ],
      "metadata": {
        "id": "WzFMNKU-hyry"
      }
    },
    {
      "cell_type": "code",
      "source": [
        "with open(\"distritos.json\", \"w\") as f:\n",
        "    f.write(json_data)"
      ],
      "metadata": {
        "id": "M7eLSAuqeb8a"
      },
      "execution_count": 18,
      "outputs": []
    }
  ]
}